{
  "cells": [
    {
      "cell_type": "code",
      "execution_count": null,
      "metadata": {
        "id": "J8VLg57yLkbU"
      },
      "outputs": [],
      "source": [
        "!pip install langchain openai chromadb sentence-transformers"
      ]
    },
    {
      "cell_type": "markdown",
      "source": [
        "# Scraping Feynman Lectures with metadata tags"
      ],
      "metadata": {
        "id": "rsRJrrE1c7BM"
      }
    },
    {
      "cell_type": "code",
      "execution_count": 2,
      "metadata": {
        "id": "sAIvHK3CLqXe"
      },
      "outputs": [],
      "source": [
        "from langchain.text_splitter import HTMLHeaderTextSplitter\n",
        "from langchain.text_splitter import RecursiveCharacterTextSplitter\n"
      ]
    },
    {
      "cell_type": "code",
      "execution_count": 5,
      "metadata": {
        "id": "bkcVRYow9hNQ"
      },
      "outputs": [],
      "source": [
        "def split_feynman(url):\n",
        "  headers_to_split_on = [\n",
        "    # (\"h1\", \"Header 1\"),\n",
        "    (\"h2\", \"Chapter\"),\n",
        "    (\"h3\", \"Section\")]\n",
        "\n",
        "  html_splitter = HTMLHeaderTextSplitter(headers_to_split_on=headers_to_split_on)\n",
        "\n",
        "  # for local file use html_splitter.split_text_from_file(<path_to_file>)\n",
        "  html_header_splits = html_splitter.split_text_from_url(url)\n",
        "\n",
        "  chunk_size = 1000\n",
        "  chunk_overlap = 0\n",
        "  text_splitter = RecursiveCharacterTextSplitter(\n",
        "      chunk_size=chunk_size, chunk_overlap=chunk_overlap\n",
        "  )\n",
        "\n",
        "  # Split\n",
        "  splits = text_splitter.split_documents(html_header_splits)\n",
        "  return splits\n"
      ]
    },
    {
      "cell_type": "code",
      "execution_count": 6,
      "metadata": {
        "id": "0-PwSYtzLRS8"
      },
      "outputs": [],
      "source": [
        "base_url = \"https://www.feynmanlectures.caltech.edu/\"\n",
        "vols = ['I', 'II', \"III\"]\n",
        "chaps = [52, 42, 21]\n",
        "# Loop through volumes and all chapters for each volume\n",
        "all_chunks = []\n",
        "for num, volume_num in enumerate(vols):\n",
        "    chapters = chaps[num] +1\n",
        "    for ch in range(1,chapters):\n",
        "      vol_chapter_url = f\"{base_url}{volume_num}_%02d.html\" %ch\n",
        "      splits = split_feynman(vol_chapter_url)\n",
        "      for doc in splits:\n",
        "        # Add volume metadata\n",
        "        doc.metadata['Volume'] = volume_num\n",
        "      all_chunks.extend(splits)"
      ]
    },
    {
      "cell_type": "markdown",
      "source": [
        "# Create Embeddings and Populate Vector Database"
      ],
      "metadata": {
        "id": "XEd0N8ugdEDG"
      }
    },
    {
      "cell_type": "code",
      "execution_count": 10,
      "metadata": {
        "id": "Q9bUEztgPDds"
      },
      "outputs": [],
      "source": [
        "from langchain.embeddings.sentence_transformer import SentenceTransformerEmbeddings\n",
        "from langchain.embeddings import HuggingFaceBgeEmbeddings\n",
        "from langchain.vectorstores import Chroma\n"
      ]
    },
    {
      "cell_type": "code",
      "execution_count": null,
      "metadata": {
        "id": "ygLr8wW1Yiyk"
      },
      "outputs": [],
      "source": [
        "\n",
        "model_name = \"BAAI/bge-small-en\"\n",
        "model_kwargs = {\"device\": \"cpu\"}\n",
        "encode_kwargs = {\"normalize_embeddings\": True}\n",
        "hf = HuggingFaceBgeEmbeddings(\n",
        "    model_name=model_name, model_kwargs=model_kwargs, encode_kwargs=encode_kwargs\n",
        ")"
      ]
    },
    {
      "cell_type": "code",
      "execution_count": null,
      "metadata": {
        "id": "vE1-VYiZPN_b"
      },
      "outputs": [],
      "source": []
    },
    {
      "cell_type": "code",
      "execution_count": 13,
      "metadata": {
        "id": "sEO1QVqUOsSC"
      },
      "outputs": [],
      "source": [
        "# Embed and store the texts\n",
        "# Supplying a persist_directory will store the embeddings on disk\n",
        "persist_directory = 'db_hf'\n",
        "\n",
        "## here we are using OpenAI embeddings but in future we will swap out to local embeddings\n",
        "# embedding = OpenAIEmbeddings()\n",
        "\n",
        "# embedding = SentenceTransformerEmbeddings(model_name=\"all-MiniLM-L6-v2\")\n",
        "\n",
        "\n",
        "\n",
        "\n",
        "vectordb = Chroma.from_documents(documents=all_chunks,\n",
        "                                 embedding=hf,\n",
        "                                 persist_directory=persist_directory)"
      ]
    },
    {
      "cell_type": "code",
      "execution_count": 49,
      "metadata": {
        "id": "UjLZ-iLIK1lt"
      },
      "outputs": [],
      "source": [
        "# persist the db to disk\n",
        "vectordb.persist()\n",
        "vectordb = None"
      ]
    },
    {
      "cell_type": "code",
      "execution_count": 50,
      "metadata": {
        "id": "AHWV3GzwK2fc"
      },
      "outputs": [],
      "source": [
        "# Now we can load the persisted database from disk, and use it as normal.\n",
        "vectordb = Chroma(persist_directory=persist_directory,\n",
        "                  embedding_function=embedding)"
      ]
    },
    {
      "cell_type": "code",
      "execution_count": 51,
      "metadata": {
        "id": "iAecJRvAK62Z"
      },
      "outputs": [],
      "source": [
        "retriever = vectordb.as_retriever(search_type=\"similarity\", search_kwargs={\"k\": 12})"
      ]
    },
    {
      "cell_type": "code",
      "execution_count": 52,
      "metadata": {
        "id": "VtaMO60xQ0Ll"
      },
      "outputs": [],
      "source": [
        "query = \"create a lesson plan about \"\n",
        "# metadata = {'source':'/content/PDFs/Nursing_Education different learning styles.pdf'}"
      ]
    },
    {
      "cell_type": "code",
      "execution_count": 53,
      "metadata": {
        "id": "igKI6C-eK_W_"
      },
      "outputs": [],
      "source": [
        "# query = \"kinematics\"\n",
        "\n",
        "docs_k = retriever.get_relevant_documents(query)#, metadata = metadata)"
      ]
    },
    {
      "cell_type": "code",
      "execution_count": 54,
      "metadata": {
        "colab": {
          "base_uri": "https://localhost:8080/"
        },
        "collapsed": true,
        "id": "hlZQEl8gLDbu",
        "outputId": "854c6440-e156-42b3-8d61-2c12c4d323c4"
      },
      "outputs": [
        {
          "output_type": "execute_result",
          "data": {
            "text/plain": [
              "[Document(page_content='By the following amount: if instead of letting the planet go around the sun, we were to change the direction (but not the magnitude) of its velocity and make it move radially, and then we let it fall from some special radius to the radius of interest, the new speed would be the same as the speed it had in the actual orbit, because this is just another example of a complicated path. So long as we come back to the same distance, the kinetic energy will be the same. So, whether the motion is the', metadata={'Chapter': '13Work and Potential Energy (A)', 'Section': '13–2Work done by gravity', 'Volume': 'I'}),\n",
              " Document(page_content='Now let us see how we can calculate the motion of Neptune, Jupiter, Uranus, or any other planet. If we have a great many planets, and let the sun move too, can we do the same thing? Of course we can. We calculate the force on a particular planet, let us say planet number\\xa0$i$, which has a position $x_i,y_i,z_i$ ($i=1$ may represent the sun, $i=2$ Mercury, $i=3$ Venus, and so on). We must know the positions of all the planets. The force acting on one is due to all the other bodies which are', metadata={'Chapter': '9Newton’s Laws of Dynamics', 'Section': '9–7Planetary motions', 'Volume': 'I'}),\n",
              " Document(page_content='laws were enunciated. So it is with this chapter: before this chapter we could not calculate how a mass on a spring would move; much less could we calculate the perturbations on the planet Uranus due to Jupiter and Saturn. After this chapter we will be able to compute not only the motion of the oscillating mass, but also the perturbations on the planet Uranus produced by Jupiter and Saturn!', metadata={'Chapter': '9Newton’s Laws of Dynamics', 'Section': '9–1Momentum and force', 'Volume': 'I'}),\n",
              " Document(page_content='motion of the molecules of a gas. There are countless particles in a cubic millimeter of gas, and it would be ridiculous to try to make calculations with so many variables (about\\xa0$10^{17}$—a hundred million billion). Anything like the motion of the molecules or atoms of a gas or a block of iron, or the motion of the stars in a globular cluster, instead of just two or three planets going around the sun—such problems we cannot do directly, so we have to seek other means.', metadata={'Chapter': '10Conservation of Momentum', 'Section': '10–1Newton’s Third Law', 'Volume': 'I'}),\n",
              " Document(page_content='At what speed must a satellite travel in order to keep going around the earth? We worked this out long ago and found that $v^2 = GM/a$. Therefore to go away from the earth, we need $\\\\sqrt{2}$\\xa0times the velocity we need to just go around the earth near its surface. We need, in other words, twice as much energy (because energy goes as the square of the velocity) to leave the earth as we do to go around it. Therefore the first thing that was done historically with satellites was to get one to go', metadata={'Chapter': '14Work and Potential Energy (conclusion)', 'Section': '14–3Conservative forces', 'Volume': 'I'}),\n",
              " Document(page_content='finding out how long it takes on the average for the moons to go around.) Now they were ahead when Jupiter was particularly close to the earth and they were behind when Jupiter was farther from the earth. This would have been a very difficult thing to explain according to the law of gravitation—it would have been, in fact, the death of this wonderful theory if there were no other explanation. If a law does not work even in one place where it ought to, it is just wrong. But the reason for this', metadata={'Chapter': '7The Theory of Gravitation', 'Section': '7–5Universal gravitation', 'Volume': 'I'}),\n",
              " Document(page_content='How I’m rushing through this! How much each sentence in this brief story contains. “The stars are made of the same atoms as the earth.” I usually pick one small topic like this to give a lecture on. Poets say science takes away from the beauty of the stars—mere globs of gas atoms. Nothing is “mere.” I too can see the stars on a desert night, and feel them. But do I see less or more? The vastness of the heavens stretches my imagination—stuck on this carousel my little eye can catch', metadata={'Chapter': '3The Relation of Physics to Other Sciences', 'Volume': 'I'}),\n",
              " Document(page_content='This is a very remarkable result. It tells us something we did not previously know about planetary motion. It tells us that when a planet moves around the sun (without any other objects around, no other forces) it moves in such a manner that the square of the speed at any point minus some constants divided by the radius at that point is always the same at every point on the orbit. For example, the closer the planet is to the sun, the faster it is going, but by how much? By the following amount:', metadata={'Chapter': '13Work and Potential Energy (A)', 'Section': '13–2Work done by gravity', 'Volume': 'I'}),\n",
              " Document(page_content='the body would have gone if there were no force, the deviation being essentially at right angles to the motion, not in the direction of the motion. In other words, because of the principle of inertia, the force needed to control the motion of a planet around the sun is not a force around the sun but toward the sun. (If there is a force toward the sun, the sun might be the angel, of course!)', metadata={'Chapter': '7The Theory of Gravitation', 'Section': '7–3Development of dynamics', 'Volume': 'I'}),\n",
              " Document(page_content='The above analysis is very nice for the motion of an oscillating spring, but can we analyze the motion of a planet around the sun? Let us see whether we can arrive at an approximation to an ellipse for the orbit. We shall suppose that the sun is infinitely heavy, in the sense that we shall not include its motion. Suppose a planet starts at a certain place and is moving with a certain velocity; it goes around the sun in some curve, and we shall try to analyze, by Newton’s laws of motion and his', metadata={'Chapter': '9Newton’s Laws of Dynamics', 'Section': '9–7Planetary motions', 'Volume': 'I'}),\n",
              " Document(page_content='If all of the planets pull on each other, the force which controls, let us say, Jupiter in going around the sun is not just the force from the sun; there is also a pull from, say, Saturn. This force is not really strong, since the sun is much more massive than Saturn, but there is some pull, so the orbit of Jupiter should not be a perfect ellipse, and it is not; it is slightly off, and “wobbles” around the correct elliptical orbit. Such a motion is a little more complicated. Attempts were made', metadata={'Chapter': '7The Theory of Gravitation', 'Section': '7–5Universal gravitation', 'Volume': 'I'}),\n",
              " Document(page_content='laws of motion and his law of gravitation, what the curve is. How? At a given moment it is at some position in space. If the radial distance from the sun to this position is called\\xa0$r$, then we know that there is a force directed inward which, according to the law of gravity, is equal to a constant times the product of the sun’s mass and the planet’s mass divided by the square of the distance. To analyze this further we must find out what acceleration will be produced by this force. We shall', metadata={'Chapter': '9Newton’s Laws of Dynamics', 'Section': '9–7Planetary motions', 'Volume': 'I'})]"
            ]
          },
          "metadata": {},
          "execution_count": 54
        }
      ],
      "source": [
        "docs_k"
      ]
    },
    {
      "cell_type": "markdown",
      "source": [
        "# popularity of top k by metadata"
      ],
      "metadata": {
        "id": "nVtVWuBbcbGw"
      }
    },
    {
      "cell_type": "code",
      "source": [
        "# popularity of top k\n",
        "# Create a dictionary to store the count of metadata occurrences\n",
        "metadata_count = {}\n",
        "\n",
        "# Iterate through the documents and count metadata occurrences\n",
        "for document in docs_k:\n",
        "    metadata = document.metadata\n",
        "    for key, value in metadata.items():\n",
        "        if key in metadata_count:\n",
        "            if value in metadata_count[key]:\n",
        "                metadata_count[key][value] += 1\n",
        "            else:\n",
        "                metadata_count[key][value] = 1\n",
        "        else:\n",
        "            metadata_count[key] = {value: 1}\n",
        "\n",
        "# Print the count of metadata occurrences\n",
        "for key, value_count in metadata_count.items():\n",
        "    print(f\"{key}:\")\n",
        "    for value, count in value_count.items():\n",
        "        print(f\"  {value}: {count} occurrences\")"
      ],
      "metadata": {
        "id": "km7ahw2scZJW"
      },
      "execution_count": null,
      "outputs": []
    },
    {
      "cell_type": "markdown",
      "source": [
        "# semantic similarity to metadata"
      ],
      "metadata": {
        "id": "EKykRgRBchCD"
      }
    },
    {
      "cell_type": "code",
      "source": [],
      "metadata": {
        "id": "f_GybtQhcgca"
      },
      "execution_count": null,
      "outputs": []
    },
    {
      "cell_type": "code",
      "source": [
        "\n",
        "\n",
        "# similarity with chapters/sections\n",
        "# Semantic search over specific metadata tags (e.g. chapter, section)\n",
        "retriever = vectordb.as_retriever(search_type=\"similarity\", search_kwargs={\"filter\":metadata,\"k\":5})\n",
        "# Find ways to best use multiple sections, maybe cohere reranker\n",
        "# Consider parent child retrieval"
      ],
      "metadata": {
        "id": "cWW1C6M1aERy"
      },
      "execution_count": null,
      "outputs": []
    },
    {
      "cell_type": "code",
      "execution_count": null,
      "metadata": {
        "id": "-nARINB1ZVUS"
      },
      "outputs": [],
      "source": [
        "metadata = {'Section': '18–1The center of mass'}\n",
        "vectordb.get(where={'Section': '18–1The center of mass'})\n"
      ]
    },
    {
      "cell_type": "markdown",
      "source": [
        "#Experimenting on RAG vs Prompting for data within training set"
      ],
      "metadata": {
        "id": "rvF7fc8ocwUk"
      }
    },
    {
      "cell_type": "code",
      "source": [],
      "metadata": {
        "id": "YzAeeHM0eaHh"
      },
      "execution_count": null,
      "outputs": []
    }
  ],
  "metadata": {
    "colab": {
      "provenance": [],
      "toc_visible": true,
      "authorship_tag": "ABX9TyNrVX+LvXZ+xwpFiF5x5ieN"
    },
    "kernelspec": {
      "display_name": "Python 3",
      "name": "python3"
    },
    "language_info": {
      "name": "python"
    }
  },
  "nbformat": 4,
  "nbformat_minor": 0
}